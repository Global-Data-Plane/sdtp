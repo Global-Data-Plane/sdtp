{
 "cells": [
  {
   "cell_type": "markdown",
   "id": "1f32525c-1cca-454d-aa48-e4d2f784eacf",
   "metadata": {},
   "source": [
    "Tutorial on creating and saving an SDML Table from a CSV file"
   ]
  },
  {
   "cell_type": "markdown",
   "id": "d8c39cdc-9ea0-44c9-b222-1650f4615b42",
   "metadata": {},
   "source": [
    "Start by importing the necessary libraries.  We only need three: PANDAS, Json,  and the Simple Data Transfer Protocol, SDTP"
   ]
  },
  {
   "cell_type": "code",
   "execution_count": null,
   "id": "445dc730-3df1-4aac-acd0-8365d3d7da68",
   "metadata": {},
   "outputs": [],
   "source": [
    "\n",
    "import pandas as pd\n",
    "import sdtp\n",
    "\n",
    "import json"
   ]
  },
  {
   "cell_type": "markdown",
   "id": "aafebd18-f132-4cac-820d-69c34db9c9b7",
   "metadata": {},
   "source": [
    "The first step is to create the schema that we'll be using for our data.  These are the columns of the table we'll create."
   ]
  },
  {
   "cell_type": "code",
   "execution_count": null,
   "id": "c2576222-bf32-48e0-9be4-976952fafcce",
   "metadata": {},
   "outputs": [],
   "source": [
    "schema = [\n",
    "    {'name': 'month', 'type': \"number\"},\n",
    "    {'name': 'cause', 'type': \"string\"},\n",
    "    {'name': 'deaths', 'type': \"number\"}\n",
    "]"
   ]
  },
  {
   "cell_type": "markdown",
   "id": "008b3b8f-3924-4a3f-8568-75c465fbfe00",
   "metadata": {},
   "source": [
    "The rows are in `records.csv`.  We'll read it into a PANDAS Dataframe and use that to create the SDML Table"
   ]
  },
  {
   "cell_type": "code",
   "execution_count": null,
   "id": "5e558878-43a5-4c7e-98ed-8f551df30365",
   "metadata": {},
   "outputs": [],
   "source": [
    "df = pd.read_csv('data/records.csv')\n",
    "table = sdtp.RowTable(schema, df.values)"
   ]
  },
  {
   "cell_type": "markdown",
   "id": "4428c15d-7f5e-43a7-b19c-d198fd96f7a5",
   "metadata": {},
   "source": [
    "We can see all of the values in the 'cause' column"
   ]
  },
  {
   "cell_type": "code",
   "execution_count": null,
   "id": "8ebedd91-aa94-48ee-8f08-2db599694206",
   "metadata": {},
   "outputs": [],
   "source": [
    "table.all_values('cause')"
   ]
  },
  {
   "cell_type": "markdown",
   "id": "32219769-8e92-4685-98c5-cb60e86b6d34",
   "metadata": {},
   "source": [
    "Find the range of values in the \"deaths\" column"
   ]
  },
  {
   "cell_type": "code",
   "execution_count": null,
   "id": "a816cd1d-bc41-4075-8fd2-6a0d0dec8578",
   "metadata": {},
   "outputs": [],
   "source": [
    "table.range_spec('deaths')"
   ]
  },
  {
   "cell_type": "markdown",
   "id": "b47595ab-74a7-4a2c-bc94-e7c08e75b293",
   "metadata": {},
   "source": [
    "Get all the rows of the table where 500 < deaths  < 1000"
   ]
  },
  {
   "cell_type": "code",
   "execution_count": null,
   "id": "97882b4e-928f-4160-a0b5-1c86e11a4a7b",
   "metadata": {},
   "outputs": [],
   "source": [
    "\n",
    "table.get_filtered_rows(sdtp.ALL(sdtp.LT('deaths', 1000), sdtp.GT('deaths', 500)))"
   ]
  },
  {
   "cell_type": "markdown",
   "id": "be8dd950-f68a-45d4-8c5e-677338845ce3",
   "metadata": {},
   "source": [
    "Get ready to save  the table.  First, get the json form"
   ]
  },
  {
   "cell_type": "code",
   "execution_count": null,
   "id": "5d9e9b7d-7968-4b6d-a508-75935b5fc30e",
   "metadata": {},
   "outputs": [],
   "source": [
    "table_to_save = table.to_dictionary()"
   ]
  },
  {
   "cell_type": "markdown",
   "id": "e6aab785-3045-4086-8f17-e4e390c1169b",
   "metadata": {},
   "source": [
    "Save the table"
   ]
  },
  {
   "cell_type": "code",
   "execution_count": null,
   "id": "c69f7e83-2633-4286-8233-c0cfe99eabc4",
   "metadata": {},
   "outputs": [],
   "source": [
    "with open('scratch/quickstart.sdml', 'w') as f:\n",
    "    json.dump(table_to_save, f, indent=2)"
   ]
  },
  {
   "cell_type": "markdown",
   "id": "349a42ba-5009-415f-8c04-6ac4553dd211",
   "metadata": {},
   "source": [
    "Check to make sure the table is identical to the correct table"
   ]
  },
  {
   "cell_type": "code",
   "execution_count": null,
   "id": "8c22373c-5fe4-4918-a806-c8104dff6614",
   "metadata": {},
   "outputs": [],
   "source": [
    "with open('tables/quickstart.sdml', 'r') as f:\n",
    "    published_json_table = json.load(f)\n",
    "    published_table = sdtp.TableBuilder.build_table(published_json_table)"
   ]
  },
  {
   "cell_type": "code",
   "execution_count": null,
   "id": "7c5218d0-7914-4c05-9d38-30218d1f6ff2",
   "metadata": {},
   "outputs": [],
   "source": [
    "published_table.rows == table.rows"
   ]
  },
  {
   "cell_type": "code",
   "execution_count": null,
   "id": "39ad17c6",
   "metadata": {},
   "outputs": [],
   "source": [
    "published_table.schema == table.schema"
   ]
  },
  {
   "cell_type": "code",
   "execution_count": null,
   "id": "4a5012ad",
   "metadata": {},
   "outputs": [],
   "source": []
  }
 ],
 "metadata": {
  "kernelspec": {
   "display_name": ".venv",
   "language": "python",
   "name": "python3"
  },
  "language_info": {
   "codemirror_mode": {
    "name": "ipython",
    "version": 3
   },
   "file_extension": ".py",
   "mimetype": "text/x-python",
   "name": "python",
   "nbconvert_exporter": "python",
   "pygments_lexer": "ipython3",
   "version": "3.12.3"
  }
 },
 "nbformat": 4,
 "nbformat_minor": 5
}
