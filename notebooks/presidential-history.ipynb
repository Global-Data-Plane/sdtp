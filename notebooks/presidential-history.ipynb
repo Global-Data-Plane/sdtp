{
 "cells": [
  {
   "cell_type": "markdown",
   "id": "51835c5c",
   "metadata": {},
   "source": [
    "# Presidential History\n",
    "In this Notebook, we're taking the presidential-votes table and turning it into a presidential history table, where\n",
    "we map the party histories by state and year.  The resulting table will have columns (State, Year, Republican, Democratic, Libertarian, Other), where the latter four columns give the percentage of the vote of each of the parties in that election.  This shows the value of interoperation of SDML/SDQL with Python's native structures and PANDAS dataframes."
   ]
  },
  {
   "cell_type": "code",
   "execution_count": null,
   "id": "b3199d55",
   "metadata": {},
   "outputs": [],
   "source": [
    "import json\n",
    "import sdtp\n",
    "import pandas as pd\n"
   ]
  },
  {
   "cell_type": "code",
   "execution_count": null,
   "id": "f498859c",
   "metadata": {},
   "outputs": [],
   "source": [
    "with open('tables/presidential-elections.sdml') as f:\n",
    "  desc = json.load(f)\n",
    "  table = sdtp.TableBuilder.build_table(desc)\n"
   ]
  },
  {
   "cell_type": "markdown",
   "id": "5f8d5897",
   "metadata": {},
   "source": [
    "We want the parties to be (Democratic, Republican, Libertarian, and Other) for the Presidential history.  So we're going to replace every other value with 'Other'. "
   ]
  },
  {
   "cell_type": "code",
   "execution_count": null,
   "id": "e5910e8d",
   "metadata": {},
   "outputs": [],
   "source": [
    "final_parties = ['Democratic', 'Republican', 'Libertarian']\n",
    "for row in table.rows:\n",
    "  # Canonical_Party is column 2\n",
    "  row[2] = row[2] if row[2] in final_parties else 'Other'"
   ]
  },
  {
   "cell_type": "markdown",
   "id": "2c3dedd8",
   "metadata": {},
   "source": [
    "Get rid of the Nationwide vote, and only keep the 'Canonical_Party', 'State', 'Year', and 'Percentage' columns"
   ]
  },
  {
   "cell_type": "code",
   "execution_count": null,
   "id": "f1b64b69",
   "metadata": {},
   "outputs": [],
   "source": [
    "states_only = {\"operator\": \"NONE\", \"arguments\": [{\"operator\": \"IN_LIST\", \"column\": \"State\", \"values\": [\"Nationwide\"]}]}\n",
    "filtered = table.get_filtered_rows(states_only, columns=['Canonical_Party', 'State', 'Year', 'Percentage'], format='sdml')"
   ]
  },
  {
   "cell_type": "markdown",
   "id": "632b486b",
   "metadata": {},
   "source": [
    "Form the table as a pivot table using PANDAS"
   ]
  },
  {
   "cell_type": "code",
   "execution_count": null,
   "id": "601be3f1",
   "metadata": {},
   "outputs": [],
   "source": [
    "df = filtered.to_dataframe()\n",
    "elections_by_party = df.pivot_table(\n",
    "    index=['Year', 'State'],\n",
    "    columns='Canonical_Party',\n",
    "    values='Percentage',\n",
    "    fill_value=0  # Optional: fill missing with 0, or use None if you prefer\n",
    ").reset_index()\n",
    "elections_by_party"
   ]
  },
  {
   "cell_type": "markdown",
   "id": "d4dd82e5",
   "metadata": {},
   "source": [
    "Get an SDML Table from the DataFrame"
   ]
  },
  {
   "cell_type": "code",
   "execution_count": null,
   "id": "44570169",
   "metadata": {},
   "outputs": [],
   "source": [
    "column_names = elections_by_party.columns.tolist()\n",
    "typelist = ['string', 'string', 'number', 'number', 'number', 'number']\n",
    "schema = [{\"name\": column_names[i], \"type\": typelist[i]} for i in range(len(column_names))]\n",
    "result = sdtp.RowTable(schema, elections_by_party.values.tolist())"
   ]
  },
  {
   "cell_type": "markdown",
   "id": "50fcbd63",
   "metadata": {},
   "source": [
    "Save it"
   ]
  },
  {
   "cell_type": "code",
   "execution_count": null,
   "id": "64cec0b4",
   "metadata": {},
   "outputs": [],
   "source": [
    "save_form = result.to_dictionary()\n",
    "with open('scratch/presidential-history.sdml', 'w') as f:\n",
    "  json.dump(save_form, f, indent=2)\n"
   ]
  },
  {
   "cell_type": "code",
   "execution_count": null,
   "id": "7f0c5eae",
   "metadata": {},
   "outputs": [],
   "source": []
  }
 ],
 "metadata": {
  "kernelspec": {
   "display_name": ".venv",
   "language": "python",
   "name": "python3"
  },
  "language_info": {
   "codemirror_mode": {
    "name": "ipython",
    "version": 3
   },
   "file_extension": ".py",
   "mimetype": "text/x-python",
   "name": "python",
   "nbconvert_exporter": "python",
   "pygments_lexer": "ipython3",
   "version": "3.12.3"
  }
 },
 "nbformat": 4,
 "nbformat_minor": 5
}
