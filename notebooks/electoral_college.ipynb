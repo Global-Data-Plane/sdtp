{
 "cells": [
  {
   "cell_type": "markdown",
   "id": "792d3a79",
   "metadata": {},
   "source": [
    "# Electoral College\n",
    "Not all Global Data Plane tables are lists of rows.  In fact, a GDP table is _any_ structure that implements the `SDMLTable` API.  In this Notebook, we show a _very_ simple example of serving rows via computation."
   ]
  },
  {
   "cell_type": "code",
   "execution_count": null,
   "id": "74cfac05",
   "metadata": {},
   "outputs": [],
   "source": [
    "import json\n",
    "import sdtp\n"
   ]
  },
  {
   "cell_type": "markdown",
   "id": "9b7325f6",
   "metadata": {},
   "source": [
    "The Electoral College Raw table has columns (Year, Candidate, Party, Votes).  We want to generate a table with columns (Year, Republican, Democratic, Whig, Other, Not_Voted, Non_Candidate).  Here, we're showing the simple way to do it, just by computing the rows and passing them to `SDMLFixedTable` which will implement the API for us.  "
   ]
  },
  {
   "cell_type": "code",
   "execution_count": null,
   "id": "07d5249b",
   "metadata": {},
   "outputs": [],
   "source": [
    "with open('tables/electoral_college_raw.sdml') as f:\n",
    "  table_desc = json.load(f)\n",
    "  electoral_college_raw = sdtp.TableBuilder.build_table(table_desc)"
   ]
  },
  {
   "cell_type": "markdown",
   "id": "1ed8b646",
   "metadata": {},
   "source": [
    "A little class to compute and hold the rows of the table.  It will compute the rows the first time, and then deliver them from the cache in future.  We also have a utility class to hold the data for each year"
   ]
  },
  {
   "cell_type": "code",
   "execution_count": null,
   "id": "8218f7b6",
   "metadata": {},
   "outputs": [],
   "source": [
    "class Year:\n",
    "  # This class accumulates the summary record for a given year\n",
    "  def __init__(self, year):\n",
    "    self.year = year\n",
    "    self.keys = [\"Republican\", \"Democratic\", \"Whig\", \"Other\", \"Not Voted\", \"not a candidate\"]\n",
    "    self.votes = {}\n",
    "    for key in self.keys: self.votes[key] = 0\n",
    "  \n",
    "  def update(self, ec_row):\n",
    "    # Process a new row in the original table.  Just figure out what the\n",
    "    # party is an add in the votes\n",
    "    party = ec_row[2]\n",
    "    votes = ec_row[3]\n",
    "    if party in self.keys:\n",
    "      pass\n",
    "    elif party == \"National Republican\":\n",
    "      party = \"Whig\"\n",
    "    elif party == '':\n",
    "      party = 'Not Voted'\n",
    "    else:\n",
    "      party = \"Other\"\n",
    "    self.votes[party] += votes\n",
    "  \n",
    "  def report(self):\n",
    "    # Return the row for this year.  Note that the order of self.keys must match the\n",
    "    # order of the schema for the resulting table\n",
    "    return [self.year] + [self.votes[key] for key in self.keys]\n",
    "\n",
    "class ElectoralCollegeHistory:\n",
    "  def __init__(self, ec_table):\n",
    "    self.rows = None\n",
    "    self.ec_table = ec_table\n",
    "  \n",
    "  def get_rows(self):\n",
    "    if self.rows: return self.rows\n",
    "    else:\n",
    "      all_years = self.ec_table.all_values('Year')\n",
    "      years = {}\n",
    "      for year in all_years:\n",
    "        years[year] = Year(year)\n",
    "      for row in self.ec_table.rows:\n",
    "        year_record = years[row[0]]\n",
    "        year_record.update(row)\n",
    "      rows = [year_record.report() for year_record in years.values()]\n",
    "      self.rows = rows\n",
    "      return rows"
   ]
  },
  {
   "cell_type": "markdown",
   "id": "510e59b4",
   "metadata": {},
   "source": [
    "Form the helper object"
   ]
  },
  {
   "cell_type": "code",
   "execution_count": null,
   "id": "acabefc4",
   "metadata": {},
   "outputs": [],
   "source": [
    "ec_history = ElectoralCollegeHistory(electoral_college_raw)\n"
   ]
  },
  {
   "cell_type": "markdown",
   "id": "e3548140",
   "metadata": {},
   "source": [
    "Create the history table"
   ]
  },
  {
   "cell_type": "code",
   "execution_count": null,
   "id": "1a32a836",
   "metadata": {},
   "outputs": [],
   "source": [
    "column_names = [\"Year\", \"Republican\", \"Democratic\", \"Whig\", \"Other\", \"Not_Voted\", \"Non_Candidate\"]\n",
    "schema = [{\"name\": column_name, \"type\": \"number\"} for column_name in column_names]\n",
    "history_table = sdtp.SDMLFixedTable(schema, ec_history.get_rows)"
   ]
  },
  {
   "cell_type": "markdown",
   "id": "a59fd485",
   "metadata": {},
   "source": [
    "And now it can be queried like any other table"
   ]
  },
  {
   "cell_type": "code",
   "execution_count": null,
   "id": "c307d520",
   "metadata": {},
   "outputs": [],
   "source": [
    "lower = sdtp.GE(\"Year\", 1828)\n",
    "upper = sdtp.LE(\"Year\", 1848)\n",
    "\n",
    "history_table.get_filtered_rows(sdtp.ALL(lower, upper))"
   ]
  },
  {
   "cell_type": "code",
   "execution_count": null,
   "id": "bbe539b6",
   "metadata": {},
   "outputs": [],
   "source": []
  }
 ],
 "metadata": {
  "kernelspec": {
   "display_name": ".venv",
   "language": "python",
   "name": "python3"
  },
  "language_info": {
   "codemirror_mode": {
    "name": "ipython",
    "version": 3
   },
   "file_extension": ".py",
   "mimetype": "text/x-python",
   "name": "python",
   "nbconvert_exporter": "python",
   "pygments_lexer": "ipython3",
   "version": "3.12.3"
  }
 },
 "nbformat": 4,
 "nbformat_minor": 5
}
