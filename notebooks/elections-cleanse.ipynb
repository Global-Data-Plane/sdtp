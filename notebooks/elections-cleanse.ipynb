{
 "cells": [
  {
   "cell_type": "markdown",
   "id": "nominated-lesbian",
   "metadata": {},
   "source": [
    "# Presidential Election Data Preparation Notebook\n",
    "This notebook takes the raw Presidential Elections spreadsheet in data/elections.csv and converts it into a linear list of records suitable\n",
    "for analysis.  The spreadsheet is designed for readability -  {\"name\": \"Years and candidates are in the columns, states are in the rows.  We need \n",
    "to convert this into a table of records (State, Year, Candidate, Party, Votes, Percentage of the Vote).  The result will be written to scratch/elections.sdml.\n",
    "There is also a little data cleansing required.  The year row only has a year in the first entry of a year (e.g., 2020, '', '', '', 2016, '', '' instead of 2020, 2020, 2020, 2016, 2017, 2016).  The fields candidate and party are contained in a single cell of the form \\<candidateName>   {\"name\": \"\\<party>.  Parties also have gone by different names over the years, and we add the column 'Canonical Party' to get the canonized name.  And integers are represented as strings \"1,000,000\" instead of 1000000\n",
    "\n",
    "\n",
    "\n",
    "\n",
    "\n"
   ]
  },
  {
   "cell_type": "markdown",
   "id": "billion-silver",
   "metadata": {},
   "source": [
    "Read in the table from the CSV file.  After this, the data will be in the variable rows."
   ]
  },
  {
   "cell_type": "code",
   "execution_count": null,
   "id": "demographic-announcement",
   "metadata": {},
   "outputs": [],
   "source": [
    "import csv\n",
    "with open('data/elections.csv', 'r') as f:\n",
    "  election_reader = csv.reader(f)\n",
    "  rows = [row for row in election_reader]\n"
   ]
  },
  {
   "cell_type": "markdown",
   "id": "39e40634",
   "metadata": {},
   "source": [
    "Define the schema of the table that will be built.  This will define the code below.  We want:\n",
    "- Name: Name of the candidate\n",
    "- Party: Candidate's party, as given at the time in the CSV file\n",
    "- Canonical_Party: the canonical name of the party (handles party aliases)\n",
    "- State\n",
    "- Year: Year of the election\n",
    "- Votes: votes received by the candidate in the state\n",
    "- Total: Total vote in the state\n",
    "- Percentage: Percentage of the vote received by the candidate"
   ]
  },
  {
   "cell_type": "code",
   "execution_count": null,
   "id": "573b9965",
   "metadata": {},
   "outputs": [],
   "source": [
    "schema = [\n",
    "  {\"name\": \"Name\", \"type\": \"string\"},\n",
    "  {\"name\": \"Party\", \"type\": \"string\"},\n",
    "  {\"name\": \"Canonical_Party\", \"type\": \"string\"},\n",
    "  {\"name\": \"State\", \"type\": \"string\"},\n",
    "  {\"name\": \"Year\", \"type\": \"number\"},\n",
    "  {\"name\": \"Votes\", \"type\": \"number\"},\n",
    "  {\"name\": \"Total\", \"type\": \"number\"},\n",
    "  {\"name\": \"Percentage\", \"type\": \"number\"}\n",
    "]"
   ]
  },
  {
   "cell_type": "markdown",
   "id": "c2506486",
   "metadata": {},
   "source": [
    "Parties have gone by aliases over the years (e.g., \"National Republican\" for \"Republican\" or \"Bull Moose\" for \"Progressive\")"
   ]
  },
  {
   "cell_type": "code",
   "execution_count": null,
   "id": "05e8514d",
   "metadata": {},
   "outputs": [],
   "source": [
    "PARTY_ALIASES = {\n",
    "  'National Republican': \"Republican\",\n",
    "  'National Union (Republican)': \"Republican\",\n",
    "  'Whig': \"Republican\",\n",
    "  'Liberal Republican/Democratic': \"Democratic\",\n",
    "  '(Northern) Democratic': \"Democratic\",\n",
    "  'Progressive \"Bull Moose\"':'Progressive'\n",
    "}"
   ]
  },
  {
   "cell_type": "markdown",
   "id": "504feec8",
   "metadata": {},
   "source": [
    "Create a class to hold the votes and percentage of the vote received by a candidate in a state.  This will generate the (Votes, Total, Percentage) chunk of the record"
   ]
  },
  {
   "cell_type": "code",
   "execution_count": null,
   "id": "cd8813cf",
   "metadata": {},
   "outputs": [],
   "source": [
    "class CandidateStateRecord:\n",
    "  # Votes, Total Votes, and Percentage of the Vote for a Candidate in a state\n",
    "  def __init__(self, votes):\n",
    "    self.votes = votes\n",
    "    self.total = self.percentage = 0\n",
    "  \n",
    "  def compute_percentage(self, total):\n",
    "    self.total = total\n",
    "    self.percentage = 100 * self.votes/self.total\n",
    "  \n",
    "  def record(self):\n",
    "    return [self.votes, self.total, self.percentage]\n",
    "\n"
   ]
  },
  {
   "cell_type": "markdown",
   "id": "a81ea801",
   "metadata": {},
   "source": [
    "We'll create a class to accumulate the records.  This will have the candidate name, party, canonical party name, year, and a dictionary of votes by state.  Each instance will be initialized with the raw data in row 1, which is of the form `<name> - <party>`.  On initialization, it will also compute the canonical name of the party."
   ]
  },
  {
   "cell_type": "code",
   "execution_count": null,
   "id": "53808434",
   "metadata": {},
   "outputs": [],
   "source": [
    "\n",
    "\n",
    "class Candidate:\n",
    "  def __init__(self, raw):\n",
    "    raw = raw.strip()\n",
    "    if raw == 'Total':\n",
    "      self.name = 'Total'\n",
    "      self.party = 'Total'\n",
    "    else:\n",
    "      parsed = raw.split(' - ')\n",
    "      if len(parsed) == 2:\n",
    "        self.name = parsed[0].strip()\n",
    "        self.party = parsed[1].strip()\n",
    "      else:\n",
    "        self.name = \"\"\n",
    "        self.party = \"Other\"\n",
    "    self.canonical_party = PARTY_ALIASES[self.party] if self.party in PARTY_ALIASES else self.party\n",
    "    self.year = 2020 # placeholder\n",
    "    # create an empty dictionary for the votes\n",
    "    self.state_record = {} # this will be a dictionary of CandidateStateRecord, indexed by state\n",
    "    \n",
    "  \n",
    "  def records(self):\n",
    "    # generate the records following the standard schema for this candidate\n",
    "    return [[self.name, self.party, self.canonical_party, state, self.year] + vote_record.record() for (state, vote_record) in self.state_record.items()]\n",
    "  "
   ]
  },
  {
   "cell_type": "code",
   "execution_count": null,
   "id": "normal-colon",
   "metadata": {},
   "outputs": [],
   "source": [
    "\n",
    "candidate_row = rows[1][1:]\n",
    "candidates = [Candidate(entry) for entry in candidate_row]"
   ]
  },
  {
   "cell_type": "markdown",
   "id": "681d5580",
   "metadata": {},
   "source": [
    "We now have a list of instances of Candidates.  The corresponding years are in row 0.  But some years are missing, so we need to fill those in"
   ]
  },
  {
   "cell_type": "code",
   "execution_count": null,
   "id": "40ae2f10",
   "metadata": {},
   "outputs": [],
   "source": [
    "year_row = rows[0][1:]\n",
    "years = [year.strip() for year in year_row]\n",
    "prev = years[0]\n",
    "candidates[0].year = int(prev)\n",
    "for i in range(1, len(years)):\n",
    "  if years[i] == '':\n",
    "    years[i] = prev\n",
    "  else:\n",
    "    prev = years[i]\n",
    "  candidates[i].year = int(prev)"
   ]
  },
  {
   "cell_type": "markdown",
   "id": "d662d566",
   "metadata": {},
   "source": [
    "Now it's time to fill in the votes.  The states are in rows[2:], with the state name in column 1.  We won't bother adding in votes if the\n",
    "vote is blank"
   ]
  },
  {
   "cell_type": "code",
   "execution_count": null,
   "id": "85ea0314",
   "metadata": {},
   "outputs": [],
   "source": [
    "for row in rows[2:]:\n",
    "  state = row[0]\n",
    "  votes = row[1:]\n",
    "  for i in range(len(votes)):\n",
    "    try:\n",
    "      candidates[i].state_record[state] = CandidateStateRecord(int(votes[i].strip().replace(\",\", \"\")))\n",
    "    except ValueError:\n",
    "      pass"
   ]
  },
  {
   "cell_type": "markdown",
   "id": "southeast-problem",
   "metadata": {},
   "source": [
    "Now, we want to group the candidates by state and year, and pull out the total votes for each state and year"
   ]
  },
  {
   "cell_type": "code",
   "execution_count": null,
   "id": "7c946c22",
   "metadata": {},
   "outputs": [],
   "source": [
    "class StateYear:\n",
    "  def __init__(self, state):\n",
    "    # initialize with a candidate record\n",
    "    self.candidates = []\n",
    "    self.state = state\n",
    "  \n",
    "  def add_candidate(self, candidate):\n",
    "    if candidate.name == 'Total':\n",
    "      self.total = candidate.state_record[self.state].votes\n",
    "    else:\n",
    "      self.candidates.append(candidate)\n",
    "  \n",
    "  def compute_percentages(self):\n",
    "    for candidate in self.candidates:\n",
    "      candidate.state_record[self.state].compute_percentage(self.total)\n",
    "      \n"
   ]
  },
  {
   "cell_type": "markdown",
   "id": "e48bacfc",
   "metadata": {},
   "source": [
    "Collect the distinct pairs state/year, pairs.  They will index a dictionary of candidate groups, which we will use to calculate percentages"
   ]
  },
  {
   "cell_type": "code",
   "execution_count": null,
   "id": "27fca0ec",
   "metadata": {},
   "outputs": [],
   "source": [
    "\n",
    "# Collect all the states and years\n",
    "distinct_groups = []\n",
    "for candidate in candidates:\n",
    "  states = [(state, candidate.year) for state in candidate.state_record.keys() ]\n",
    "  distinct_groups = distinct_groups + states\n",
    "distinct_groups = list(set(distinct_groups))\n"
   ]
  },
  {
   "cell_type": "markdown",
   "id": "18b47424",
   "metadata": {},
   "source": [
    "Form the disctionary and add the candidates to the appropriate StateYear group in the dictionary"
   ]
  },
  {
   "cell_type": "code",
   "execution_count": null,
   "id": "e5b43ea2",
   "metadata": {},
   "outputs": [],
   "source": [
    "\n",
    "groups = {}\n",
    "for (state, year) in distinct_groups:\n",
    "  groups[(state, year)] = StateYear(state)\n",
    "for candidate in candidates:\n",
    "  for state in candidate.state_record.keys():\n",
    "    groups[(state, candidate.year)].add_candidate(candidate)"
   ]
  },
  {
   "cell_type": "markdown",
   "id": "54e4a03a",
   "metadata": {},
   "source": [
    "And now we can compute the percentages"
   ]
  },
  {
   "cell_type": "code",
   "execution_count": null,
   "id": "golden-zealand",
   "metadata": {},
   "outputs": [],
   "source": [
    "for state_year in groups.values(): state_year.compute_percentages()"
   ]
  },
  {
   "cell_type": "markdown",
   "id": "bbd45d29",
   "metadata": {},
   "source": [
    "We don't need the entries for the 'Total' candidate"
   ]
  },
  {
   "cell_type": "code",
   "execution_count": null,
   "id": "9de4cb22",
   "metadata": {},
   "outputs": [],
   "source": [
    "candidates = [candidate for candidate in candidates if candidate.name != 'Total']"
   ]
  },
  {
   "cell_type": "markdown",
   "id": "ad541114",
   "metadata": {},
   "source": [
    "The rows of the table are just the flattened rows of the candidates"
   ]
  },
  {
   "cell_type": "code",
   "execution_count": null,
   "id": "46acbce3",
   "metadata": {},
   "outputs": [],
   "source": [
    "table_rows = [record for candidate in candidates for record in candidate.records()]"
   ]
  },
  {
   "cell_type": "markdown",
   "id": "6ad85453",
   "metadata": {},
   "source": [
    "Take a look at the first few"
   ]
  },
  {
   "cell_type": "code",
   "execution_count": null,
   "id": "033c716f",
   "metadata": {},
   "outputs": [],
   "source": [
    "table_rows[:10]"
   ]
  },
  {
   "cell_type": "markdown",
   "id": "754ec040",
   "metadata": {},
   "source": [
    "Forming the table is easy"
   ]
  },
  {
   "cell_type": "code",
   "execution_count": null,
   "id": "29b9402b",
   "metadata": {},
   "outputs": [],
   "source": [
    "import sdtp\n",
    "table = sdtp.RowTable(schema, table_rows)"
   ]
  },
  {
   "cell_type": "markdown",
   "id": "363eb079",
   "metadata": {},
   "source": [
    "And now we can query the table.   Let's see how the Democrats did on the West Coast  from 1860 on"
   ]
  },
  {
   "cell_type": "code",
   "execution_count": null,
   "id": "4dfb6692",
   "metadata": {},
   "outputs": [],
   "source": [
    "\n",
    "year_filter = sdtp.GE('Year', 1860)\n",
    "state_filter = sdtp.IN_LIST('State', ['Washington', 'Oregon', 'California'])\n",
    "party_filter = sdtp.EQ('Canonical_Party', 'Democratic')\n",
    "filter_spec = sdtp.ALL(year_filter, state_filter, party_filter)\n",
    "table.get_filtered_rows(filter_spec, columns = ['State', 'Year', 'Percentage'])"
   ]
  },
  {
   "cell_type": "markdown",
   "id": "6ff55ead",
   "metadata": {},
   "source": [
    "We can get the results as another RowTable, in order to drill down"
   ]
  },
  {
   "cell_type": "code",
   "execution_count": null,
   "id": "e69d76bc",
   "metadata": {},
   "outputs": [],
   "source": [
    "result_table = table.get_filtered_rows(filter_spec, columns = ['State', 'Year', 'Percentage'], format ='sdml')\n",
    "(result_table.schema, len(result_table.rows))"
   ]
  },
  {
   "cell_type": "markdown",
   "id": "3a45ceaf",
   "metadata": {},
   "source": []
  },
  {
   "cell_type": "markdown",
   "id": "113ff99a",
   "metadata": {},
   "source": [
    "We can save the table"
   ]
  },
  {
   "cell_type": "code",
   "execution_count": null,
   "id": "a72fdb2e",
   "metadata": {},
   "outputs": [],
   "source": [
    "import json\n",
    "table_to_save = table.to_dictionary()\n",
    "with open('scratch/presidential-elections.sdml', 'w') as f:\n",
    "  json.dump(table_to_save, f, indent=2)"
   ]
  },
  {
   "cell_type": "markdown",
   "id": "60330225",
   "metadata": {},
   "source": [
    "It's a good idea to check that the saved table is really the same as the original"
   ]
  },
  {
   "cell_type": "code",
   "execution_count": null,
   "id": "211d0c94",
   "metadata": {},
   "outputs": [],
   "source": [
    "from sdtp import TableBuilder\n",
    "with open('scratch/presidential-elections.sdml') as f:\n",
    "  table_to_build = json.load(f)\n",
    "table_from_disk = TableBuilder.build_table(table_to_build)\n"
   ]
  },
  {
   "cell_type": "code",
   "execution_count": null,
   "id": "85efd909",
   "metadata": {},
   "outputs": [],
   "source": [
    "assert table_from_disk.schema == table.schema\n",
    "assert table_from_disk.rows == table.rows"
   ]
  }
 ],
 "metadata": {
  "kernelspec": {
   "display_name": ".venv",
   "language": "python",
   "name": "python3"
  },
  "language_info": {
   "codemirror_mode": {
    "name": "ipython",
    "version": 3
   },
   "file_extension": ".py",
   "mimetype": "text/x-python",
   "name": "python",
   "nbconvert_exporter": "python",
   "pygments_lexer": "ipython3",
   "version": "3.12.3"
  }
 },
 "nbformat": 4,
 "nbformat_minor": 5
}
