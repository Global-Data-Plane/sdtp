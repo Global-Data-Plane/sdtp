{
 "cells": [
  {
   "cell_type": "markdown",
   "id": "opening-consortium",
   "metadata": {},
   "source": [
    "# Senate Elections, 1976-2020\n",
    "This Notebook computes the tables required for the Senate Elections example dashboard.\n",
    "\n",
    "Step 1: Import the libraries"
   ]
  },
  {
   "cell_type": "code",
   "execution_count": null,
   "id": "municipal-biography",
   "metadata": {},
   "outputs": [],
   "source": [
    "import pandas as pd\n",
    "import json"
   ]
  },
  {
   "cell_type": "markdown",
   "id": "worldwide-affiliate",
   "metadata": {},
   "source": [
    "Use Pandas to read the libraries, and view the result"
   ]
  },
  {
   "cell_type": "code",
   "execution_count": null,
   "id": "binary-float",
   "metadata": {},
   "outputs": [],
   "source": [
    "elections = pd.read_csv('data/1976-2020-senate.csv')"
   ]
  },
  {
   "cell_type": "markdown",
   "id": "noticed-binding",
   "metadata": {},
   "source": [
    "Cut out irrelevant columns, compute the percentage, and trim out candidates who got < 5% of the vote"
   ]
  },
  {
   "cell_type": "code",
   "execution_count": null,
   "id": "after-authority",
   "metadata": {},
   "outputs": [],
   "source": [
    "elections_trimmed = elections[['year', 'state', 'special', 'candidate', 'party_simplified', 'candidatevotes', 'totalvotes']]\n",
    "elections_two = elections_trimmed.assign(percentage=pd.Series(elections_trimmed['candidatevotes']/elections_trimmed['totalvotes'] * 100))\n",
    "elections_three = elections_two[elections_two['percentage'] > 5]"
   ]
  },
  {
   "cell_type": "code",
   "execution_count": null,
   "id": "26518f84",
   "metadata": {},
   "outputs": [],
   "source": [
    "elections_three"
   ]
  },
  {
   "cell_type": "code",
   "execution_count": null,
   "id": "historical-october",
   "metadata": {},
   "outputs": [],
   "source": [
    "\n",
    "def save_dataframe(dataframe, typelist, table_name):\n",
    "    columns = dataframe.columns.tolist()\n",
    "    assert len(columns) == len(typelist)\n",
    "    schema  = [{\"name\": dataframe.columns[i], \"type\": typelist[i]} for i in range(len(typelist))]\n",
    "    rows = dataframe.values.tolist()\n",
    "    name = table_name if table_name.endswith('.sdml') else f'{table_name}.sdml'\n",
    "    table =  {\n",
    "        \"type\": \"RowTable\",\n",
    "        \"schema\": schema,\n",
    "        \"rows\": rows\n",
    "    }\n",
    "\n",
    "    with open(f'scratch/{name}', 'w') as f:\n",
    "        json.dump(table, f, indent=2)\n",
    "    "
   ]
  },
  {
   "cell_type": "code",
   "execution_count": null,
   "id": "incorrect-crystal",
   "metadata": {},
   "outputs": [],
   "source": [
    "typelist = ['number', 'string', 'boolean', 'string', 'string', 'number', 'number', 'number']\n",
    "save_dataframe(elections_three, typelist,  'senate_vote')\n"
   ]
  },
  {
   "cell_type": "markdown",
   "id": "ee37303c",
   "metadata": {},
   "source": [
    "Compute the history table, where the percentage of the vote by each party for each election is broken out as a separate column"
   ]
  },
  {
   "cell_type": "code",
   "execution_count": null,
   "id": "f06247f3",
   "metadata": {},
   "outputs": [],
   "source": [
    "\n",
    "\n",
    "elections_by_party = elections_three.pivot_table(\n",
    "    index=['year', 'state', 'special'],\n",
    "    columns='party_simplified',\n",
    "    values='percentage',\n",
    "    fill_value=0  # Optional: fill missing with 0, or use None if you prefer\n",
    ").reset_index()\n",
    "\n",
    "# Optional: flatten the columns, if needed (if you get MultiIndex columns)\n",
    "elections_by_party.columns.name = None\n",
    "elections_by_party = elections_py_party.rename_axis(None, axis=1)\n",
    "\n",
    "elections_by_party"
   ]
  },
  {
   "cell_type": "code",
   "execution_count": null,
   "id": "69d7f437",
   "metadata": {},
   "outputs": [],
   "source": [
    "typelist  = ['number', 'string', 'boolean', 'nmumber', 'number', 'number', 'number']\n",
    "save_dataframe(elections_by_party, typelist,  'senate_history')"
   ]
  },
  {
   "cell_type": "markdown",
   "id": "temporal-amber",
   "metadata": {},
   "source": [
    "Read the Senate control table (how many seats before/after each election) and publish it"
   ]
  },
  {
   "cell_type": "code",
   "execution_count": null,
   "id": "ranking-fourth",
   "metadata": {},
   "outputs": [],
   "source": [
    "control = pd.read_csv('data/senate-control.csv')\n",
    "save_dataframe(control, [\"number\" for column in control.columns.tolist()], 'senate-control')"
   ]
  },
  {
   "cell_type": "code",
   "execution_count": null,
   "id": "c6903fb8-d068-4b60-b7ae-54d4a21199e0",
   "metadata": {},
   "outputs": [],
   "source": []
  }
 ],
 "metadata": {
  "kernelspec": {
   "display_name": ".venv",
   "language": "python",
   "name": "python3"
  },
  "language_info": {
   "codemirror_mode": {
    "name": "ipython",
    "version": 3
   },
   "file_extension": ".py",
   "mimetype": "text/x-python",
   "name": "python",
   "nbconvert_exporter": "python",
   "pygments_lexer": "ipython3",
   "version": "3.12.3"
  }
 },
 "nbformat": 4,
 "nbformat_minor": 5
}
