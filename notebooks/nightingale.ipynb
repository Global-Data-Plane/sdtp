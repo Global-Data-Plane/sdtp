{
 "cells": [
  {
   "cell_type": "markdown",
   "id": "bb96f9d2",
   "metadata": {},
   "source": [
    "# Nightingale  Demo\n",
    "This notebook extracts data from an online source,  converts it into an SDML Dataset, and computes aggregate data from it.  Both the original and summary data are saved as SDML tables."
   ]
  },
  {
   "cell_type": "markdown",
   "id": "distributed-survey",
   "metadata": {},
   "source": [
    "# Florence Nightingale's Dataset\n",
    "Modern hospital care and nursing can be said to have begun with the English statistician and nurse [Florence Nightingale](https://en.wikipedia.org/wiki/Florence_Nightingale).  During the [Crimean War](https://en.wikipedia.org/wiki/Crimean_War), Ms. Nightingale tended to wounded troops, and invented modern hospital practices: primarily, sanitation and disinfection.  To show the efficacy of her techniques, she counted deaths due to disease, wounds, and undetermined causes, showing that disease was the primary killer in war.  She showed that after her reforms, deaths dropped dramatically, and deaths due to disease more so.\n",
    "\n",
    "The original dataset is taken from [Nightingale's Rose](https://github.com/datasets-io/nightingales-rose/), and is copyright the [Compute.io](https://github.com/compute-io) authors."
   ]
  },
  {
   "cell_type": "code",
   "execution_count": null,
   "id": "indoor-compression",
   "metadata": {},
   "outputs": [],
   "source": [
    "import pandas as pd\n",
    "import json"
   ]
  },
  {
   "cell_type": "markdown",
   "id": "finite-ensemble",
   "metadata": {},
   "source": [
    "Read the original data "
   ]
  },
  {
   "cell_type": "code",
   "execution_count": null,
   "id": "hawaiian-package",
   "metadata": {},
   "outputs": [],
   "source": [
    "nightingale = pd.read_json('https://raw.githubusercontent.com/datasets-io/nightingales-rose/master/lib/dataset.json')"
   ]
  },
  {
   "cell_type": "markdown",
   "id": "accepting-cooler",
   "metadata": {},
   "source": [
    "Extract the month from the date, and set so month 1 is April 1854, Month 24 is march 1856, then get rid of the spurious date column"
   ]
  },
  {
   "cell_type": "code",
   "execution_count": null,
   "id": "powered-parking",
   "metadata": {},
   "outputs": [],
   "source": [
    "nightingale['month'] = nightingale['date'].apply(lambda date: (date.month - 3) + 12 * (date.year - 1854))\n",
    "nightingale = nightingale.iloc[:, 1:]"
   ]
  },
  {
   "cell_type": "markdown",
   "id": "signal-celebration",
   "metadata": {},
   "source": [
    "Compute the total deaths each month, and then use these to compute the percentage of deaths due to each cause."
   ]
  },
  {
   "cell_type": "code",
   "execution_count": null,
   "id": "small-adapter",
   "metadata": {},
   "outputs": [],
   "source": [
    "nightingale['total'] = nightingale['disease'] + nightingale['wounds'] + nightingale['other']\n",
    "columns = ['disease', 'wounds', 'other']\n",
    "def compute_pct(column_name):\n",
    "    pct = (nightingale[column_name]/nightingale['total']) * 10000\n",
    "    nightingale[f'{column_name}_pct'] =  pct.astype(int)/100\n",
    "for column in columns: compute_pct(column)"
   ]
  },
  {
   "cell_type": "markdown",
   "id": "chief-custom",
   "metadata": {},
   "source": [
    "Create a table for the original Nightingale data and save it.  First, make the schema"
   ]
  },
  {
   "cell_type": "code",
   "execution_count": null,
   "id": "23496af3-2bc8-49f7-9001-2f8230204254",
   "metadata": {},
   "outputs": [],
   "source": [
    "schema = [{\"name\": column, \"type\": \"number\"} for column in nightingale.columns]\n",
    "schema"
   ]
  },
  {
   "cell_type": "markdown",
   "id": "00c74f41-2290-4133-a9d0-34c15a7d17a9",
   "metadata": {},
   "source": [
    "Next, form the table in SDML format.  This is a JSON disctionary with the schema, the table type as \"RowTable\", and the rows as just the list of rows of the table"
   ]
  },
  {
   "cell_type": "code",
   "execution_count": null,
   "id": "forced-owner",
   "metadata": {},
   "outputs": [],
   "source": [
    "table = {\n",
    "    \"type\": \"RowTable\",\n",
    "    \"schema\": schema,\n",
    "    \"rows\": nightingale.values.tolist()\n",
    "}\n",
    "\n"
   ]
  },
  {
   "cell_type": "markdown",
   "id": "f00d51eb",
   "metadata": {},
   "source": [
    "Save the table"
   ]
  },
  {
   "cell_type": "code",
   "execution_count": null,
   "id": "c7db4ca7",
   "metadata": {},
   "outputs": [],
   "source": [
    "with open('scratch/nightingale.sdml', 'w') as f:\n",
    "  json.dump(table, f, indent=2)"
   ]
  },
  {
   "cell_type": "markdown",
   "id": "instant-republic",
   "metadata": {},
   "source": [
    "Compute the summary  table.  This has columns (month, deaths, cause). "
   ]
  },
  {
   "cell_type": "code",
   "execution_count": null,
   "id": "matched-delicious",
   "metadata": {},
   "outputs": [],
   "source": [
    "from functools import reduce\n",
    "# Compute the table (month, death, cause) for each cause\n",
    "def extract_cause_table(cause):\n",
    "    slice = nightingale[['month', cause]].rename(columns = {cause: 'deaths'})\n",
    "    slice['cause'] = cause\n",
    "    return slice\n",
    "# form the cause tables\n",
    "cause_tables = [extract_cause_table(column) for column in columns]\n",
    "# use reduce to merge them into a single table\n",
    "merged = reduce(lambda acc, cur: acc.merge(cur, how = \"outer\"), cause_tables[1:], cause_tables[0])\n",
    "# Use this to create the detail table and send to the dashboard\n"
   ]
  },
  {
   "cell_type": "code",
   "execution_count": null,
   "id": "collective-toronto",
   "metadata": {},
   "outputs": [],
   "source": [
    "\n",
    "summary_schema = [\n",
    "    {'name': 'month', 'type': 'number'},\n",
    "    {'name': 'deaths', 'type': 'number'},\n",
    "    {'name': 'cause', 'type': 'string'}\n",
    "]\n",
    "summary_table = {\n",
    "    \"type\": \"RowTable\",\n",
    "    \"schema\": summary_schema,\n",
    "    \"rows\": merged.values.tolist()\n",
    "}\n",
    "\n",
    "with open('scratch/nightingale-summary.sdml', 'w') as f:\n",
    "  json.dump(summary_table, f, indent=2)"
   ]
  }
 ],
 "metadata": {
  "kernelspec": {
   "display_name": ".venv",
   "language": "python",
   "name": "python3"
  },
  "language_info": {
   "codemirror_mode": {
    "name": "ipython",
    "version": 3
   },
   "file_extension": ".py",
   "mimetype": "text/x-python",
   "name": "python",
   "nbconvert_exporter": "python",
   "pygments_lexer": "ipython3",
   "version": "3.12.3"
  }
 },
 "nbformat": 4,
 "nbformat_minor": 5
}
